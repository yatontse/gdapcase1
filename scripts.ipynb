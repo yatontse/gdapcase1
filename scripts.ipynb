{
 "cells": [
  {
   "cell_type": "markdown",
   "id": "b0d18d05",
   "metadata": {},
   "source": [
    "1. Import library"
   ]
  },
  {
   "cell_type": "code",
   "execution_count": 1,
   "id": "0f8ad316-c980-4fed-ba8a-044c15068647",
   "metadata": {},
   "outputs": [],
   "source": [
    "import numpy as np\n",
    "import pandas as pd\n",
    "import matplotlib.pyplot as plt\n",
    "import seaborn as sns\n",
    "from datetime import datetime as dt"
   ]
  },
  {
   "cell_type": "markdown",
   "id": "69bcf07a",
   "metadata": {},
   "source": [
    "2. Read all the xlsx files\n",
    "3. Combine the file into one dataframe"
   ]
  },
  {
   "cell_type": "code",
   "execution_count": 2,
   "id": "464abc49-0874-4153-ba3c-e70718c9e79a",
   "metadata": {},
   "outputs": [
    {
     "name": "stdout",
     "output_type": "stream",
     "text": [
      "<class 'pandas.core.frame.DataFrame'>\n",
      "Int64Index: 5667717 entries, 0 to 181805\n",
      "Data columns (total 13 columns):\n",
      " #   Column              Dtype  \n",
      "---  ------              -----  \n",
      " 0   ride_id             object \n",
      " 1   rideable_type       object \n",
      " 2   started_at          object \n",
      " 3   ended_at            object \n",
      " 4   start_station_name  object \n",
      " 5   start_station_id    object \n",
      " 6   end_station_name    object \n",
      " 7   end_station_id      object \n",
      " 8   start_lat           float64\n",
      " 9   start_lng           float64\n",
      " 10  end_lat             float64\n",
      " 11  end_lng             float64\n",
      " 12  member_casual       object \n",
      "dtypes: float64(4), object(9)\n",
      "memory usage: 605.4+ MB\n",
      "None\n"
     ]
    }
   ],
   "source": [
    "data_01 = pd.read_csv('./data/202201-divvy-tripdata.csv')\n",
    "data_02 = pd.read_csv('./data/202202-divvy-tripdata.csv')\n",
    "data_03 = pd.read_csv('./data/202203-divvy-tripdata.csv')\n",
    "data_04 = pd.read_csv('./data/202204-divvy-tripdata.csv')\n",
    "data_05 = pd.read_csv('./data/202205-divvy-tripdata.csv')\n",
    "data_06 = pd.read_csv('./data/202206-divvy-tripdata.csv')\n",
    "data_07 = pd.read_csv('./data/202207-divvy-tripdata.csv')\n",
    "data_08 = pd.read_csv('./data/202208-divvy-tripdata.csv')\n",
    "data_09 = pd.read_csv('./data/202209-divvy-tripdata.csv')\n",
    "data_10 = pd.read_csv('./data/202210-divvy-tripdata.csv')\n",
    "data_11 = pd.read_csv('./data/202211-divvy-tripdata.csv')\n",
    "data_12 = pd.read_csv('./data/202212-divvy-tripdata.csv')\n",
    "\n",
    "all_trip = pd.concat([data_01, data_02, data_03, data_04, data_05, data_06, data_07, data_08, data_09, data_10, data_11, data_12])\n",
    "\n",
    "print(all_trip.info())"
   ]
  },
  {
   "cell_type": "markdown",
   "id": "3fcb70f0",
   "metadata": {},
   "source": [
    "3. Remove columns that is not used in this analyst"
   ]
  },
  {
   "cell_type": "code",
   "execution_count": 3,
   "id": "ca44c231-e7d3-45b8-a9e5-e6a3980341b9",
   "metadata": {},
   "outputs": [
    {
     "name": "stdout",
     "output_type": "stream",
     "text": [
      "<class 'pandas.core.frame.DataFrame'>\n",
      "Int64Index: 4560269 entries, 1 to 181805\n",
      "Data columns (total 11 columns):\n",
      " #   Column              Dtype         \n",
      "---  ------              -----         \n",
      " 0   ride_id             object        \n",
      " 1   rideable_type       object        \n",
      " 2   started_at          datetime64[ns]\n",
      " 3   ended_at            datetime64[ns]\n",
      " 4   start_station_name  object        \n",
      " 5   start_station_id    object        \n",
      " 6   end_station_name    object        \n",
      " 7   end_station_id      object        \n",
      " 8   member_casual       object        \n",
      " 9   ride_length         float64       \n",
      " 10  weekday             int64         \n",
      "dtypes: datetime64[ns](2), float64(1), int64(1), object(7)\n",
      "memory usage: 417.5+ MB\n"
     ]
    }
   ],
   "source": [
    "all_trip_trimmed = all_trip.drop(columns=['start_lat', 'start_lng', 'end_lat', 'end_lng'])\n",
    "all_trip_trimmed['started_at'] = pd.to_datetime(all_trip_trimmed['started_at'])\n",
    "all_trip_trimmed['ended_at'] = pd.to_datetime(all_trip_trimmed['ended_at'])\n",
    "all_trip_trimmed['ride_length'] = ((all_trip_trimmed['ended_at']-all_trip_trimmed['started_at']).dt.seconds)/60.0\n",
    "all_trip_trimmed['weekday'] = all_trip_trimmed['started_at'].dt.day_of_week\n",
    "all_trip_trimmed = all_trip_trimmed[all_trip_trimmed['ride_length']>= 5.0]\n",
    "all_trip_trimmed.info()"
   ]
  },
  {
   "cell_type": "markdown",
   "id": "e4ea3b53",
   "metadata": {},
   "source": [
    "Q1. How is the casual difference from member?\n",
    "1. Ride type"
   ]
  },
  {
   "cell_type": "code",
   "execution_count": 4,
   "id": "6a1b8d3d",
   "metadata": {},
   "outputs": [
    {
     "data": {
      "text/html": [
       "<div>\n",
       "<style scoped>\n",
       "    .dataframe tbody tr th:only-of-type {\n",
       "        vertical-align: middle;\n",
       "    }\n",
       "\n",
       "    .dataframe tbody tr th {\n",
       "        vertical-align: top;\n",
       "    }\n",
       "\n",
       "    .dataframe thead th {\n",
       "        text-align: right;\n",
       "    }\n",
       "</style>\n",
       "<table border=\"1\" class=\"dataframe\">\n",
       "  <thead>\n",
       "    <tr style=\"text-align: right;\">\n",
       "      <th>rideable_type</th>\n",
       "      <th>classic_bike</th>\n",
       "      <th>docked_bike</th>\n",
       "      <th>electric_bike</th>\n",
       "    </tr>\n",
       "    <tr>\n",
       "      <th>member_casual</th>\n",
       "      <th></th>\n",
       "      <th></th>\n",
       "      <th></th>\n",
       "    </tr>\n",
       "  </thead>\n",
       "  <tbody>\n",
       "    <tr>\n",
       "      <th>casual</th>\n",
       "      <td>802345.0</td>\n",
       "      <td>171559.0</td>\n",
       "      <td>1042450.0</td>\n",
       "    </tr>\n",
       "    <tr>\n",
       "      <th>member</th>\n",
       "      <td>1338783.0</td>\n",
       "      <td>NaN</td>\n",
       "      <td>1205132.0</td>\n",
       "    </tr>\n",
       "  </tbody>\n",
       "</table>\n",
       "</div>"
      ],
      "text/plain": [
       "rideable_type  classic_bike  docked_bike  electric_bike\n",
       "member_casual                                          \n",
       "casual             802345.0     171559.0      1042450.0\n",
       "member            1338783.0          NaN      1205132.0"
      ]
     },
     "execution_count": 4,
     "metadata": {},
     "output_type": "execute_result"
    }
   ],
   "source": [
    "pd.pivot_table(all_trip_trimmed, values='ride_id', columns='rideable_type', index='member_casual', aggfunc='count')"
   ]
  },
  {
   "cell_type": "markdown",
   "id": "e8a3c357",
   "metadata": {},
   "source": []
  },
  {
   "cell_type": "code",
   "execution_count": 6,
   "id": "4978017b",
   "metadata": {},
   "outputs": [
    {
     "data": {
      "text/plain": [
       "<seaborn.axisgrid.FacetGrid at 0x107d2f190>"
      ]
     },
     "execution_count": 6,
     "metadata": {},
     "output_type": "execute_result"
    },
    {
     "data": {
      "image/png": "[encoded data removed]",
      "text/plain": [
       "<Figure size 500x500 with 1 Axes>"
      ]
     },
     "metadata": {},
     "output_type": "display_data"
    }
   ],
   "source": [
    "sns.catplot(data=all_trip_trimmed, x='member_casual', y='ride_length',kind = 'box', sym='')"
   ]
  },
  {
   "cell_type": "code",
   "execution_count": 7,
   "id": "32b5e1d3",
   "metadata": {},
   "outputs": [
    {
     "data": {
      "text/plain": [
       "<AxesSubplot: xlabel='weekday', ylabel='count'>"
      ]
     },
     "execution_count": 7,
     "metadata": {},
     "output_type": "execute_result"
    },
    {
     "data": {
      "image/png": "[encoded data removed]",
      "text/plain": [
       "<Figure size 640x480 with 1 Axes>"
      ]
     },
     "metadata": {},
     "output_type": "display_data"
    }
   ],
   "source": [
    "sns.countplot(data=all_trip_trimmed, x='weekday', hue='member_casual', dodge=True)"
   ]
  }
 ],
 "metadata": {
  "kernelspec": {
   "display_name": "Python 3 (ipykernel)",
   "language": "python",
   "name": "python3"
  },
  "language_info": {
   "codemirror_mode": {
    "name": "ipython",
    "version": 3
   },
   "file_extension": ".py",
   "mimetype": "text/x-python",
   "name": "python",
   "nbconvert_exporter": "python",
   "pygments_lexer": "ipython3",
   "version": "3.10.2"
  },
  "vscode": {
   "interpreter": {
    "hash": "0002fc00727f8cfb75e08e0bef0756883f5f71e19e17d4285e992f73bef9e633"
   }
  }
 },
 "nbformat": 4,
 "nbformat_minor": 5
}
